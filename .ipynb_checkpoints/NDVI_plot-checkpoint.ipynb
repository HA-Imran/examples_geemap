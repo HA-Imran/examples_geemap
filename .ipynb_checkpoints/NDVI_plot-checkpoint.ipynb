{
 "cells": [
  {
   "cell_type": "code",
   "execution_count": 1,
   "id": "4af7a96c-b867-49bd-a1db-6b31fc9ad098",
   "metadata": {
    "tags": []
   },
   "outputs": [],
   "source": [
    "import geemap\n",
    "import ee\n",
    "from ndvi2gif import NdviSeasonality"
   ]
  },
  {
   "cell_type": "code",
   "execution_count": 3,
   "id": "ffa8dc51-e09d-41ed-9390-44098046471a",
   "metadata": {
    "tags": []
   },
   "outputs": [
    {
     "name": "stdout",
     "output_type": "stream",
     "text": [
      "[{'type': 'Folder', 'id': 'projects/earthengine-legacy/assets/users/hfzaliimran88'}]\n"
     ]
    }
   ],
   "source": [
    "#You could need a first login to sart with python Earth Enginelogin\n",
    "ee.Initialize()\n",
    "root = ee.data.getAssetRoots()\n",
    "print(root)\n",
    "\n",
    "### or run simply this comand to ask token\n",
    "#map =geemap.Map()\n",
    "#map"
   ]
  },
  {
   "cell_type": "code",
   "execution_count": 29,
   "id": "258de632-1892-4f24-9c0d-6019fdf2fde1",
   "metadata": {
    "tags": []
   },
   "outputs": [
    {
     "data": {
      "application/vnd.jupyter.widget-view+json": {
       "model_id": "abf02a7ef8f9417db9b9315f1bbf35b6",
       "version_major": 2,
       "version_minor": 0
      },
      "text/plain": [
       "Map(center=[20, 0], controls=(WidgetControl(options=['position', 'transparent_bg'], widget=HBox(children=(Togg…"
      ]
     },
     "execution_count": 29,
     "metadata": {},
     "output_type": "execute_result"
    }
   ],
   "source": [
    "#Create the Map Object to choose he rois\n",
    "Map = geemap.Map()\n",
    "Map.add_basemap() # 'Google Satellite' if added this it will display all layer names\n",
    "Map"
   ]
  },
  {
   "cell_type": "code",
   "execution_count": 30,
   "id": "0f1a3557-bf09-4d4b-b978-9dd034c5d98c",
   "metadata": {
    "tags": []
   },
   "outputs": [],
   "source": [
    "#Set the roi to last drawn feature\n",
    "roi = Map.draw_last_feature"
   ]
  },
  {
   "cell_type": "code",
   "execution_count": 31,
   "id": "d9836c3a-6fe0-49d7-9ff5-5b510f050afe",
   "metadata": {},
   "outputs": [],
   "source": [
    "#Instance ndvi2gif\n",
    "#Three different examples here to instantiate the class\n",
    "MyClass = NdviSeasonality(roi)\n",
    "myclass2 = NdviSeasonality(roi, 2014, 2020, 'Landsat')\n",
    "myclass3 = NdviSeasonality(roi, 2010, 2015, 'MODIS', key='median')\n",
    "\n",
    "\n",
    "\n",
    "wintermax = MyClass.get_year_composite().select('winter').max()\n",
    "median = MyClass.get_year_composite().median()\n",
    "Map.addLayer(wintermax, {'min': 0, 'max': 0.75}, 'winterMax')\n",
    "Map.addLayer(median, {'min': 0.1, 'max': 0.8}, 'median') \n",
    "\n",
    "\n"
   ]
  },
  {
   "cell_type": "code",
   "execution_count": 32,
   "id": "03ab503b-a618-4f7c-a281-01e2f9432918",
   "metadata": {
    "tags": []
   },
   "outputs": [
    {
     "data": {
      "application/vnd.jupyter.widget-view+json": {
       "model_id": "abf02a7ef8f9417db9b9315f1bbf35b6",
       "version_major": 2,
       "version_minor": 0
      },
      "text/plain": [
       "Map(bottom=5962446.0, center=[46.09748948973548, 11.117348583785445], controls=(WidgetControl(options=['positi…"
      ]
     },
     "execution_count": 32,
     "metadata": {},
     "output_type": "execute_result"
    }
   ],
   "source": [
    "Map"
   ]
  },
  {
   "cell_type": "code",
   "execution_count": null,
   "id": "3ebc1882-76eb-43ca-836c-c2ebdc311f67",
   "metadata": {},
   "outputs": [],
   "source": [
    "#Maybe you feel like playing with the Map and see different colour/season combination efore generate the gif\n",
    "vizParams = {'bands': ['summer', 'autumn', 'winter'], 'min': 0, 'max': 0.7, 'gamma': [0.95, 1.1, 1]}\n",
    "Map.addLayer(show, vizParams, 'mycropsfirstviz')\n",
    "#Notice that you also can use the Earh Engine amazing analysis capabilities\n",
    "wintermax = myclass.get_year_composite().select('winter').max()\n",
    "median = myclass.get_year_composite().median()\n",
    "Map.addLayer(wintermax, {'min': 0, 'max': 0.75}, 'winterMax')\n",
    "Map.addLayer(median, {'min': 0.1, 'max': 0.8}, 'median')\n",
    "\n",
    "#To get the gif, ust use the method.\n",
    "myclass.get_gif()\n",
    "\n",
    "#Last, you can export your yearly seasonal NDVI composites to your computer\n",
    "myclass.get_export()\n",
    "\n"
   ]
  }
 ],
 "metadata": {
  "kernelspec": {
   "display_name": "Python 3 (ipykernel)",
   "language": "python",
   "name": "python3"
  },
  "language_info": {
   "codemirror_mode": {
    "name": "ipython",
    "version": 3
   },
   "file_extension": ".py",
   "mimetype": "text/x-python",
   "name": "python",
   "nbconvert_exporter": "python",
   "pygments_lexer": "ipython3",
   "version": "3.11.3"
  }
 },
 "nbformat": 4,
 "nbformat_minor": 5
}
