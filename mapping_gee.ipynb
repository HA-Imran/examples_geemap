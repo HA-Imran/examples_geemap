{
 "cells": [
  {
   "cell_type": "code",
   "execution_count": 2,
   "id": "af2f1193-b44f-47ab-a592-920ec12ac324",
   "metadata": {
    "tags": []
   },
   "outputs": [],
   "source": [
    "import ee\n",
    "import geemap\n",
    "import os"
   ]
  },
  {
   "cell_type": "code",
   "execution_count": 3,
   "id": "563abd4c-f7c7-438d-ad01-b70d1615bbf2",
   "metadata": {
    "tags": []
   },
   "outputs": [
    {
     "data": {
      "text/html": [
       "<p>To authorize access needed by Earth Engine, open the following\n",
       "        URL in a web browser and follow the instructions:</p>\n",
       "        <p><a href=https://code.earthengine.google.com/client-auth?scopes=https%3A//www.googleapis.com/auth/earthengine%20https%3A//www.googleapis.com/auth/devstorage.full_control&request_id=ZVQv_Xm2RF-WpYTQq0-VB3TWY3i3DtjpboJDDz0f_uI&tc=EA9H2NBOs-SY_Xq_yYCB5PlJ90CPKX1DwFbkOFOlunw&cc=ywUyoVmr5lVW1puDhxpG0ZQRZEEpi0DwrWXmq8Xhdic>https://code.earthengine.google.com/client-auth?scopes=https%3A//www.googleapis.com/auth/earthengine%20https%3A//www.googleapis.com/auth/devstorage.full_control&request_id=ZVQv_Xm2RF-WpYTQq0-VB3TWY3i3DtjpboJDDz0f_uI&tc=EA9H2NBOs-SY_Xq_yYCB5PlJ90CPKX1DwFbkOFOlunw&cc=ywUyoVmr5lVW1puDhxpG0ZQRZEEpi0DwrWXmq8Xhdic</a></p>\n",
       "        <p>The authorization workflow will generate a code, which you should paste in the box below.</p>\n",
       "        "
      ],
      "text/plain": [
       "<IPython.core.display.HTML object>"
      ]
     },
     "metadata": {},
     "output_type": "display_data"
    },
    {
     "name": "stdin",
     "output_type": "stream",
     "text": [
      "Enter verification code:  4/1AZEOvhU1v43O62tNKfNazfP58KWKaJVlPl96iClbCE3KbPFSOmGm_K83wRU\n"
     ]
    },
    {
     "name": "stdout",
     "output_type": "stream",
     "text": [
      "\n",
      "Successfully saved authorization token.\n"
     ]
    },
    {
     "data": {
      "application/vnd.jupyter.widget-view+json": {
       "model_id": "6c0d97d0063b42ac9a2b615555e16f4b",
       "version_major": 2,
       "version_minor": 0
      },
      "text/plain": [
       "Map(center=[20, 0], controls=(WidgetControl(options=['position', 'transparent_bg'], widget=HBox(children=(Togg…"
      ]
     },
     "execution_count": 3,
     "metadata": {},
     "output_type": "execute_result"
    }
   ],
   "source": [
    "map =geemap.Map()\n",
    "map"
   ]
  },
  {
   "cell_type": "code",
   "execution_count": null,
   "id": "fac2c47c-6b72-47b1-a78e-04f117d05357",
   "metadata": {
    "tags": []
   },
   "outputs": [],
   "source": [
    "landsat7 = ee.Image('LANDSAT/LE7_TOA_5YEAR/1999_2003').select([0,1,2,3,4,6])\n",
    "landsat_vis = {'bands': ['B4', 'B3', 'B2'], 'gamma': 1.4}\n",
    "map.addLayer(landsat7, landsat_vis, \"LE7_TOA_5YEAR/1999_2003\")\n",
    "\n",
    "hyperion = ee.ImageCollection('EO1/HYPERION').filter(\n",
    "    ee.Filter.date('2015-01-01', '2015-03-01')\n",
    ")\n",
    "hyperion_vis = {\n",
    "    'min': 1000.0,\n",
    "    'max': 14000.0,\n",
    "    'gamma': 2.5,\n",
    "}\n",
    "map.addLayer(hyperion, hyperion_vis, 'EO1/HYPERION');"
   ]
  },
  {
   "cell_type": "code",
   "execution_count": null,
   "id": "4204bebc-cba3-4b84-93db-e9ef2b241de3",
   "metadata": {
    "tags": []
   },
   "outputs": [],
   "source": [
    "map.set_plot_options(add_marker_cluster=True, overlay=None)"
   ]
  },
  {
   "cell_type": "code",
   "execution_count": null,
   "id": "6628b5e3-2795-4dff-80ae-00189e9a6207",
   "metadata": {
    "tags": []
   },
   "outputs": [],
   "source": [
    "m.plot_demo()"
   ]
  },
  {
   "cell_type": "code",
   "execution_count": null,
   "id": "6844743f-98cf-4f4a-9f54-6677f42b33c6",
   "metadata": {
    "tags": []
   },
   "outputs": [],
   "source": [
    "## Adding shapefile\n",
    "tn_shp = 'data/trentino_shp.shp'\n",
    "shapefile = geemap.shp_to_ee(tn_shp)\n",
    "map.addLayer(shapefile, {}, 'TN_Shapefile')"
   ]
  },
  {
   "cell_type": "code",
   "execution_count": null,
   "id": "35ec02f8-84e9-4b82-aa17-3741d5aa180d",
   "metadata": {
    "tags": []
   },
   "outputs": [],
   "source": [
    "## export shapefile as kml\n",
    "geemap.ee_export_vector(shapefile, filename= 'data/trentino_shp.kml')"
   ]
  },
  {
   "cell_type": "code",
   "execution_count": null,
   "id": "44189d56-0eac-4ac2-8217-bdbd03404429",
   "metadata": {
    "tags": []
   },
   "outputs": [],
   "source": [
    "## split map window\n",
    "map =geemap.Map()\n",
    "map.split_map(left_layer='ESA WorldCover 2020', right_layer='ESA WorldCover 2021')\n",
    "map"
   ]
  },
  {
   "cell_type": "code",
   "execution_count": null,
   "id": "b8dd3e29-9ae7-4c3d-8d08-7a42e837c1d7",
   "metadata": {
    "tags": []
   },
   "outputs": [],
   "source": [
    "basemaps = geemap.basemaps.keys()\n",
    "print(basemaps)"
   ]
  },
  {
   "cell_type": "code",
   "execution_count": null,
   "id": "2e3f9e23-b58d-48b1-82f4-2b0a5aaf15ba",
   "metadata": {
    "tags": []
   },
   "outputs": [],
   "source": [
    "## Earth engine dataset\n",
    "\n",
    "img_collection = ee.ImageCollection(\"COPERNICUS/Landcover/100m/Proba-V-C3/Global\")\n",
    "print(img_collection.aggregate_array('system:id').getInfo())"
   ]
  },
  {
   "cell_type": "code",
   "execution_count": null,
   "id": "4103a337-1dd2-41e1-942d-8a2b55672c14",
   "metadata": {
    "tags": []
   },
   "outputs": [],
   "source": [
    "aafc_2009 = ee.Image('AAFC/ACI/2009').select('landcover')\n",
    "aafc_2020 = ee.Image('AAFC/ACI/2020').select('landcover')\n",
    "\n",
    "left_layer = geemap.ee_tile_layer(aafc_2009, {}, 'AAFC 2009')\n",
    "right_layer = geemap.ee_tile_layer(aafc_2020, {}, 'AAFC 2020')\n",
    "\n",
    "map = geemap.Map()\n",
    "map.split_map(left_layer, right_layer)\n",
    "map"
   ]
  },
  {
   "cell_type": "code",
   "execution_count": null,
   "id": "66e97dfa-ba5e-4eee-8e05-eadfde655b43",
   "metadata": {},
   "outputs": [],
   "source": [
    "## clip ee image to shapefile\n",
    "map = geemap.Map()\n",
    "map"
   ]
  },
  {
   "cell_type": "code",
   "execution_count": null,
   "id": "c2802b52-069b-4300-b3fa-5281dcca8f4e",
   "metadata": {},
   "outputs": [],
   "source": [
    "\n",
    "image = ee.Image('USGS/SRTMGL1_003')\n",
    "# Set visualization parameters.\n",
    "vis_params = {\n",
    "    'min': 0,\n",
    "    'max': 4000,\n",
    "    'palette': ['006633', 'E5FFCC', '662A00', 'D8D8D8', 'F5F5F5'],\n",
    "}\n",
    "\n",
    "# Add Earth Engine DEM to map\n",
    "map.addLayer(image, vis_params, 'SRTM DEM')\n",
    "\n",
    "states = 'data/trentino_shp.shp'\n",
    "states_shp = geemap.shp_to_ee(states)\n",
    "map.addLayer(states_shp, {}, 'Trentino')\n"
   ]
  },
  {
   "cell_type": "code",
   "execution_count": null,
   "id": "b7fff73f-53ba-499f-ab7c-2b7532bac04c",
   "metadata": {
    "tags": []
   },
   "outputs": [],
   "source": [
    "## clip with shapefile\n",
    "\n",
    "roi = image.clip(states_shp)\n",
    "map.addLayer(roi, vis_params, 'Clipped image')\n",
    "\n",
    "\"\"\"\n",
    "## clip with drawing feature\n",
    "\n",
    "map.draw_features\n",
    "\n",
    "\"\"\""
   ]
  },
  {
   "cell_type": "code",
   "execution_count": null,
   "id": "0b9219c4-8ea0-415e-b46d-15bec349b73e",
   "metadata": {
    "tags": []
   },
   "outputs": [],
   "source": [
    "map.draw_last_feature\n",
    "roi = ee.FeatureCollection(map.draw_features)\n",
    "map.addLayer(roi, {}, \"Selected states\")"
   ]
  },
  {
   "cell_type": "code",
   "execution_count": null,
   "id": "34719d89-de18-46d6-b126-9e0724051bfe",
   "metadata": {
    "tags": []
   },
   "outputs": [],
   "source": [
    "clipped_image = image.clip(roi)\n",
    "map.addLayer(clipped_image, vis_params, 'Clipped image')"
   ]
  },
  {
   "cell_type": "code",
   "execution_count": null,
   "id": "3e88c46c-afdd-4255-8d8a-caa458379eec",
   "metadata": {},
   "outputs": [],
   "source": [
    "image = ee.Image('LANDSAT/LE7_TOA_5YEAR/1999_2003')\n",
    "\n",
    "landsat_vis = {'bands': ['B4', 'B3', 'B2'], 'gamma': 1.4}\n",
    "Map.addLayer(image, landsat_vis, \"LE7_TOA_5YEAR/1999_2003\", True, 0.7)"
   ]
  },
  {
   "cell_type": "code",
   "execution_count": 45,
   "id": "709ce9d3-b037-4933-a8b3-dcc4845895c5",
   "metadata": {
    "tags": []
   },
   "outputs": [],
   "source": [
    "# Draw any shapes on the map using the Drawing tools before executing this code block\n",
    "feature = map.draw_last_feature\n",
    "\n",
    "if feature is None:\n",
    "    geom = ee.Geometry.Polygon(\n",
    "        [\n",
    "            [\n",
    "                [-115.413031, 35.889467],\n",
    "                [-115.413031, 36.543157],\n",
    "                [-114.034328, 36.543157],\n",
    "                [-114.034328, 35.889467],\n",
    "                [-115.413031, 35.889467],\n",
    "            ]\n",
    "        ]\n",
    "    )\n",
    "    feature = ee.Feature(geom, {})\n",
    "\n",
    "roi = feature.geometry()"
   ]
  },
  {
   "cell_type": "code",
   "execution_count": 46,
   "id": "501dc496-406e-4f1b-a5a6-9cfc630fc314",
   "metadata": {
    "tags": []
   },
   "outputs": [
    {
     "name": "stdout",
     "output_type": "stream",
     "text": [
      "Generating URL ...\n",
      "An error occurred while downloading.\n",
      "Element.geometry: Unable to use a collection in an algorithm that requires a feature or image. This may happen when trying to use a collection of collections where a collection of features is expected; use flatten, or map a function to convert inner collections to features. Use clipToCollection (instead of clip) to clip an image to a collection.\n"
     ]
    }
   ],
   "source": [
    "## Download image collection as GeoTIFF\n",
    "out_dir = os.path.join(os.path.expanduser('~'), 'Downloads')\n",
    "filename= os.path.join(out_dir, 'landsat_tn.tif')\n",
    "image = image.clip(roi).unmask()\n",
    "geemap.ee_export_image(image, filename=filename, scale=90, region=roi, file_per_band=False)"
   ]
  },
  {
   "cell_type": "code",
   "execution_count": 94,
   "id": "7334c318-a14a-4567-9501-10002502c9b3",
   "metadata": {
    "tags": []
   },
   "outputs": [
    {
     "data": {
      "application/vnd.jupyter.widget-view+json": {
       "model_id": "88230379f3e042b3bc441ce45663e2b7",
       "version_major": 2,
       "version_minor": 0
      },
      "text/plain": [
       "Map(center=[20, 0], controls=(WidgetControl(options=['position', 'transparent_bg'], widget=HBox(children=(Togg…"
      ]
     },
     "execution_count": 94,
     "metadata": {},
     "output_type": "execute_result"
    }
   ],
   "source": [
    "### Zonal statistcs\n",
    "\n",
    "map = geemap.Map()\n",
    "map"
   ]
  },
  {
   "cell_type": "code",
   "execution_count": 79,
   "id": "e99dcf32-b004-4cbd-8667-4534c707a0d0",
   "metadata": {
    "tags": []
   },
   "outputs": [],
   "source": [
    "dem = ee.Image('USGS/SRTMGL1_003')\n",
    "# Set visualization parameters.\n",
    "vis_params = {\n",
    "    'min': 0,\n",
    "    'max': 4000,\n",
    "    'palette': ['006633', 'E5FFCC', '662A00', 'D8D8D8', 'F5F5F5'],\n",
    "}\n",
    "\n",
    "# Add Earth Engine DEM to map\n",
    "map.addLayer(image, vis_params, 'SRTM DEM')\n",
    "\n",
    "landsat7 = ee.Image('LANDSAT/LE7_TOA_5YEAR/1999_2003').select([0,1,2,3,4,6])\n",
    "landsat_vis = {'bands': ['B4', 'B3', 'B2'], 'gamma': 1.4}\n",
    "map.addLayer(landsat7, landsat_vis, \"LE7_TOA_5YEAR/1999_2003\")\n",
    "\n",
    "states = 'data/tn1.shp'\n",
    "states_shp = geemap.shp_to_ee(states)\n",
    "states_shp = ee.FeatureCollection(states_shp)\n",
    "map.addLayer(states_shp, {}, 'Trentino')"
   ]
  },
  {
   "cell_type": "code",
   "execution_count": 80,
   "id": "d9e956fe-09a4-43d1-8682-5ee983c08fe0",
   "metadata": {
    "tags": []
   },
   "outputs": [
    {
     "name": "stdout",
     "output_type": "stream",
     "text": [
      "Computing statistics ...\n",
      "Generating URL ...\n",
      "Downloading data from https://earthengine.googleapis.com/v1alpha/projects/earthengine-legacy/tables/621ab720c237c4d87a9e3b60b226e185-3cd633fee8544ddb9e1c16a2e096fed2:getFeatures\n",
      "Please wait ...\n",
      "Data downloaded to C:\\Users\\hfz_a\\Downloads\\dem_stats.csv\n"
     ]
    }
   ],
   "source": [
    "out_dir = os.path.join(os.path.expanduser('~'), 'Downloads')\n",
    "out_dem_stats = os.path.join(out_dir, 'dem_stats.csv')\n",
    "\n",
    "if not os.path.exists(out_dir):\n",
    "    os.makedirs(out_dir)\n",
    "\n",
    "# Allowed output formats: csv, shp, json, kml, kmz\n",
    "# Allowed statistics type: MEAN, MAXIMUM, MINIMUM, MEDIAN, STD, MIN_MAX, VARIANCE, SUM\n",
    "geemap.zonal_statistics(dem, states_shp, out_dem_stats, statistics_type='MEAN', scale=1000)"
   ]
  },
  {
   "cell_type": "code",
   "execution_count": 102,
   "id": "de0e34e0-6890-4016-8c6b-9f0dfc2a713f",
   "metadata": {
    "tags": []
   },
   "outputs": [],
   "source": [
    "dataset = ee.Image('COPERNICUS/Landcover/100m/Proba-V-C3/Global/2019')\n",
    "landcover = ee.Image(dataset.select('forest_type'))\n",
    "map.addLayer(landcover, {}, 'LULC')\n",
    "\n",
    "states = 'data/tn1.shp'\n",
    "states_shp = geemap.shp_to_ee(states)\n",
    "states_shp = ee.FeatureCollection(states_shp)\n",
    "map.addLayer(states_shp, {}, 'Trentino')\n"
   ]
  },
  {
   "cell_type": "code",
   "execution_count": 103,
   "id": "20a082b4-53eb-4a61-9fa9-eb46cff14906",
   "metadata": {
    "tags": []
   },
   "outputs": [],
   "source": [
    "map.add_legend(builtin_legend='COPERNICUS/Landcover/100m/Proba-V/Global')"
   ]
  }
 ],
 "metadata": {
  "kernelspec": {
   "display_name": "Python 3 (ipykernel)",
   "language": "python",
   "name": "python3"
  },
  "language_info": {
   "codemirror_mode": {
    "name": "ipython",
    "version": 3
   },
   "file_extension": ".py",
   "mimetype": "text/x-python",
   "name": "python",
   "nbconvert_exporter": "python",
   "pygments_lexer": "ipython3",
   "version": "3.11.3"
  }
 },
 "nbformat": 4,
 "nbformat_minor": 5
}
