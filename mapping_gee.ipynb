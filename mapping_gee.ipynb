{
 "cells": [
  {
   "cell_type": "code",
   "execution_count": null,
   "id": "af2f1193-b44f-47ab-a592-920ec12ac324",
   "metadata": {
    "tags": []
   },
   "outputs": [],
   "source": [
    "import ee\n",
    "import geemap"
   ]
  },
  {
   "cell_type": "code",
   "execution_count": 58,
   "id": "563abd4c-f7c7-438d-ad01-b70d1615bbf2",
   "metadata": {
    "tags": []
   },
   "outputs": [
    {
     "data": {
      "application/vnd.jupyter.widget-view+json": {
       "model_id": "a44adda6aef9492898debb75555dc89e",
       "version_major": 2,
       "version_minor": 0
      },
      "text/plain": [
       "Map(center=[20, 0], controls=(WidgetControl(options=['position', 'transparent_bg'], widget=HBox(children=(Togg…"
      ]
     },
     "execution_count": 58,
     "metadata": {},
     "output_type": "execute_result"
    }
   ],
   "source": [
    "map =geemap.Map()\n",
    "map"
   ]
  },
  {
   "cell_type": "code",
   "execution_count": null,
   "id": "fac2c47c-6b72-47b1-a78e-04f117d05357",
   "metadata": {
    "tags": []
   },
   "outputs": [],
   "source": [
    "landsat7 = ee.Image('LANDSAT/LE7_TOA_5YEAR/1999_2003').select([0,1,2,3,4,6])\n",
    "landsat_vis = {'bands': ['B4', 'B3', 'B2'], 'gamma': 1.4}\n",
    "map.addLayer(landsat7, landsat_vis, \"LE7_TOA_5YEAR/1999_2003\")\n",
    "\n",
    "hyperion = ee.ImageCollection('EO1/HYPERION').filter(\n",
    "    ee.Filter.date('2015-01-01', '2015-03-01')\n",
    ")\n",
    "hyperion_vis = {\n",
    "    'min': 1000.0,\n",
    "    'max': 14000.0,\n",
    "    'gamma': 2.5,\n",
    "}\n",
    "map.addLayer(hyperion, hyperion_vis, 'EO1/HYPERION');"
   ]
  },
  {
   "cell_type": "code",
   "execution_count": null,
   "id": "4204bebc-cba3-4b84-93db-e9ef2b241de3",
   "metadata": {
    "tags": []
   },
   "outputs": [],
   "source": [
    "map.set_plot_options(add_marker_cluster=True, overlay=None)"
   ]
  },
  {
   "cell_type": "code",
   "execution_count": null,
   "id": "6628b5e3-2795-4dff-80ae-00189e9a6207",
   "metadata": {
    "tags": []
   },
   "outputs": [],
   "source": [
    "m.plot_demo()"
   ]
  },
  {
   "cell_type": "code",
   "execution_count": 59,
   "id": "6844743f-98cf-4f4a-9f54-6677f42b33c6",
   "metadata": {
    "tags": []
   },
   "outputs": [],
   "source": [
    "## Adding shapefile\n",
    "tn_shp = 'data/trentino_shp.shp'\n",
    "shapefile = geemap.shp_to_ee(tn_shp)\n",
    "map.addLayer(shapefile, {}, 'TN_Shapefile')"
   ]
  },
  {
   "cell_type": "code",
   "execution_count": 60,
   "id": "35ec02f8-84e9-4b82-aa17-3741d5aa180d",
   "metadata": {
    "tags": []
   },
   "outputs": [
    {
     "name": "stdout",
     "output_type": "stream",
     "text": [
      "Generating URL ...\n",
      "Downloading data from https://earthengine.googleapis.com/v1alpha/projects/earthengine-legacy/tables/6be682ea654fef229b7cde3e2f3ca39f-09c0a39e5560b1b2ba78ba9c68bf4145:getFeatures\n",
      "Please wait ...\n",
      "Data downloaded to C:\\Users\\hfz_a\\git_repo\\examples_geemap\\data\\trentino_shp.kml\n"
     ]
    }
   ],
   "source": [
    "## export shapefile as kml\n",
    "geemap.ee_export_vector(shapefile, filename= 'data/trentino_shp.kml')"
   ]
  },
  {
   "cell_type": "code",
   "execution_count": null,
   "id": "44189d56-0eac-4ac2-8217-bdbd03404429",
   "metadata": {},
   "outputs": [],
   "source": []
  }
 ],
 "metadata": {
  "kernelspec": {
   "display_name": "Python 3 (ipykernel)",
   "language": "python",
   "name": "python3"
  },
  "language_info": {
   "codemirror_mode": {
    "name": "ipython",
    "version": 3
   },
   "file_extension": ".py",
   "mimetype": "text/x-python",
   "name": "python",
   "nbconvert_exporter": "python",
   "pygments_lexer": "ipython3",
   "version": "3.11.3"
  }
 },
 "nbformat": 4,
 "nbformat_minor": 5
}
