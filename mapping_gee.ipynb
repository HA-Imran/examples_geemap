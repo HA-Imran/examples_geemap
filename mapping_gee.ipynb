{
 "cells": [
  {
   "cell_type": "code",
   "execution_count": null,
   "id": "af2f1193-b44f-47ab-a592-920ec12ac324",
   "metadata": {
    "tags": []
   },
   "outputs": [],
   "source": [
    "import ee\n",
    "import geemap"
   ]
  },
  {
   "cell_type": "code",
   "execution_count": null,
   "id": "563abd4c-f7c7-438d-ad01-b70d1615bbf2",
   "metadata": {
    "tags": []
   },
   "outputs": [],
   "source": [
    "map =geemap.Map()\n",
    "map"
   ]
  },
  {
   "cell_type": "code",
   "execution_count": null,
   "id": "fac2c47c-6b72-47b1-a78e-04f117d05357",
   "metadata": {
    "tags": []
   },
   "outputs": [],
   "source": [
    "landsat7 = ee.Image('LANDSAT/LE7_TOA_5YEAR/1999_2003').select([0,1,2,3,4,6])\n",
    "landsat_vis = {'bands': ['B4', 'B3', 'B2'], 'gamma': 1.4}\n",
    "map.addLayer(landsat7, landsat_vis, \"LE7_TOA_5YEAR/1999_2003\")\n",
    "\n",
    "hyperion = ee.ImageCollection('EO1/HYPERION').filter(\n",
    "    ee.Filter.date('2015-01-01', '2015-03-01')\n",
    ")\n",
    "hyperion_vis = {\n",
    "    'min': 1000.0,\n",
    "    'max': 14000.0,\n",
    "    'gamma': 2.5,\n",
    "}\n",
    "map.addLayer(hyperion, hyperion_vis, 'EO1/HYPERION');"
   ]
  },
  {
   "cell_type": "code",
   "execution_count": null,
   "id": "4204bebc-cba3-4b84-93db-e9ef2b241de3",
   "metadata": {
    "tags": []
   },
   "outputs": [],
   "source": [
    "map.set_plot_options(add_marker_cluster=True, overlay=None)"
   ]
  },
  {
   "cell_type": "code",
   "execution_count": null,
   "id": "6628b5e3-2795-4dff-80ae-00189e9a6207",
   "metadata": {
    "tags": []
   },
   "outputs": [],
   "source": [
    "m.plot_demo()"
   ]
  },
  {
   "cell_type": "code",
   "execution_count": null,
   "id": "6844743f-98cf-4f4a-9f54-6677f42b33c6",
   "metadata": {
    "tags": []
   },
   "outputs": [],
   "source": [
    "## Adding shapefile\n",
    "tn_shp = 'data/trentino_shp.shp'\n",
    "shapefile = geemap.shp_to_ee(tn_shp)\n",
    "map.addLayer(shapefile, {}, 'TN_Shapefile')"
   ]
  },
  {
   "cell_type": "code",
   "execution_count": null,
   "id": "35ec02f8-84e9-4b82-aa17-3741d5aa180d",
   "metadata": {
    "tags": []
   },
   "outputs": [],
   "source": [
    "## export shapefile as kml\n",
    "geemap.ee_export_vector(shapefile, filename= 'data/trentino_shp.kml')"
   ]
  },
  {
   "cell_type": "code",
   "execution_count": null,
   "id": "44189d56-0eac-4ac2-8217-bdbd03404429",
   "metadata": {
    "tags": []
   },
   "outputs": [],
   "source": [
    "## split map window\n",
    "map =geemap.Map()\n",
    "map.split_map(left_layer='ESA WorldCover 2020', right_layer='ESA WorldCover 2021')\n",
    "map"
   ]
  },
  {
   "cell_type": "code",
   "execution_count": null,
   "id": "b8dd3e29-9ae7-4c3d-8d08-7a42e837c1d7",
   "metadata": {
    "tags": []
   },
   "outputs": [],
   "source": [
    "basemaps = geemap.basemaps.keys()\n",
    "print(basemaps)"
   ]
  },
  {
   "cell_type": "code",
   "execution_count": null,
   "id": "2e3f9e23-b58d-48b1-82f4-2b0a5aaf15ba",
   "metadata": {
    "tags": []
   },
   "outputs": [],
   "source": [
    "## Earth engine dataset\n",
    "\n",
    "img_collection = ee.ImageCollection(\"COPERNICUS/Landcover/100m/Proba-V-C3/Global\")\n",
    "print(img_collection.aggregate_array('system:id').getInfo())"
   ]
  },
  {
   "cell_type": "code",
   "execution_count": null,
   "id": "4103a337-1dd2-41e1-942d-8a2b55672c14",
   "metadata": {
    "tags": []
   },
   "outputs": [],
   "source": [
    "aafc_2009 = ee.Image('AAFC/ACI/2009').select('landcover')\n",
    "aafc_2020 = ee.Image('AAFC/ACI/2020').select('landcover')\n",
    "\n",
    "left_layer = geemap.ee_tile_layer(aafc_2009, {}, 'AAFC 2009')\n",
    "right_layer = geemap.ee_tile_layer(aafc_2020, {}, 'AAFC 2020')\n",
    "\n",
    "map = geemap.Map()\n",
    "map.split_map(left_layer, right_layer)\n",
    "map"
   ]
  },
  {
   "cell_type": "code",
   "execution_count": null,
   "id": "66e97dfa-ba5e-4eee-8e05-eadfde655b43",
   "metadata": {},
   "outputs": [],
   "source": [
    "## clip ee image to shapefile\n",
    "map = geemap.Map()\n",
    "map"
   ]
  },
  {
   "cell_type": "code",
   "execution_count": null,
   "id": "c2802b52-069b-4300-b3fa-5281dcca8f4e",
   "metadata": {},
   "outputs": [],
   "source": [
    "\n",
    "image = ee.Image('USGS/SRTMGL1_003')\n",
    "# Set visualization parameters.\n",
    "vis_params = {\n",
    "    'min': 0,\n",
    "    'max': 4000,\n",
    "    'palette': ['006633', 'E5FFCC', '662A00', 'D8D8D8', 'F5F5F5'],\n",
    "}\n",
    "\n",
    "# Add Earth Engine DEM to map\n",
    "map.addLayer(image, vis_params, 'SRTM DEM')\n",
    "\n",
    "states = 'data/trentino_shp.shp'\n",
    "states_shp = geemap.shp_to_ee(tn_shp)\n",
    "map.addLayer(states_shp, {}, 'US States')"
   ]
  },
  {
   "cell_type": "code",
   "execution_count": null,
   "id": "b7fff73f-53ba-499f-ab7c-2b7532bac04c",
   "metadata": {
    "tags": []
   },
   "outputs": [],
   "source": [
    "## clip with shapefile\n",
    "\"\"\"\n",
    "roi = image.clip(states_shp)\n",
    "map.addLayer(roi, vis_params, 'Clipped image')\n",
    "\n",
    "\"\"\"\n",
    "## clip with drawing feature\n",
    "\n",
    "map.draw_features"
   ]
  },
  {
   "cell_type": "code",
   "execution_count": null,
   "id": "0b9219c4-8ea0-415e-b46d-15bec349b73e",
   "metadata": {
    "tags": []
   },
   "outputs": [],
   "source": [
    "map.draw_last_feature\n",
    "roi = ee.FeatureCollection(map.draw_features)\n",
    "map.addLayer(roi, {}, \"Selected states\")"
   ]
  },
  {
   "cell_type": "code",
   "execution_count": null,
   "id": "34719d89-de18-46d6-b126-9e0724051bfe",
   "metadata": {
    "tags": []
   },
   "outputs": [],
   "source": [
    "clipped_image = image.clip(roi)\n",
    "map.addLayer(clipped_image, vis_params, 'Clipped image')"
   ]
  }
 ],
 "metadata": {
  "kernelspec": {
   "display_name": "Python 3 (ipykernel)",
   "language": "python",
   "name": "python3"
  },
  "language_info": {
   "codemirror_mode": {
    "name": "ipython",
    "version": 3
   },
   "file_extension": ".py",
   "mimetype": "text/x-python",
   "name": "python",
   "nbconvert_exporter": "python",
   "pygments_lexer": "ipython3",
   "version": "3.11.3"
  }
 },
 "nbformat": 4,
 "nbformat_minor": 5
}
